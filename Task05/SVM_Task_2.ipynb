{
  "nbformat": 4,
  "nbformat_minor": 0,
  "metadata": {
    "colab": {
      "provenance": []
    },
    "kernelspec": {
      "name": "python3",
      "display_name": "Python 3"
    },
    "language_info": {
      "name": "python"
    }
  },
  "cells": [
    {
      "cell_type": "markdown",
      "source": [
        "##Q1 Import and explore the data\n",
        "Dataset Link: https://drive.google.com/file/d/1tPHOMKD_ef-j8MuynCn2fSpbrL11-J1l/view?usp=sharing\n"
      ],
      "metadata": {
        "id": "aHQLsCXT_yf9"
      }
    },
    {
      "cell_type": "code",
      "source": [
        "import pandas as pd\n",
        "import numpy as np\n"
      ],
      "metadata": {
        "id": "zWbhRjs3oeGU"
      },
      "execution_count": 1,
      "outputs": []
    },
    {
      "cell_type": "code",
      "source": [
        "from google.colab import drive\n",
        "drive.mount('/content/drive')"
      ],
      "metadata": {
        "colab": {
          "base_uri": "https://localhost:8080/"
        },
        "id": "PVwKNgx932ps",
        "outputId": "2ae5ae5a-df3c-4cbc-b57a-e7acfd66af06"
      },
      "execution_count": 8,
      "outputs": [
        {
          "output_type": "stream",
          "name": "stdout",
          "text": [
            "Mounted at /content/drive\n"
          ]
        }
      ]
    },
    {
      "cell_type": "code",
      "source": [
        "df=pd.read_csv('/content/drive/MyDrive/pulsar1.txt')\n",
        "df.head()"
      ],
      "metadata": {
        "id": "cbtuJ18toiZ5",
        "colab": {
          "base_uri": "https://localhost:8080/",
          "height": 241
        },
        "outputId": "41d86395-281b-4d8b-d8cb-a121a618877a"
      },
      "execution_count": 9,
      "outputs": [
        {
          "output_type": "execute_result",
          "data": {
            "text/plain": [
              "    Mean of the integrated profile  \\\n",
              "0                       121.156250   \n",
              "1                        76.968750   \n",
              "2                       130.585938   \n",
              "3                       156.398438   \n",
              "4                        84.804688   \n",
              "\n",
              "    Standard deviation of the integrated profile  \\\n",
              "0                                      48.372971   \n",
              "1                                      36.175557   \n",
              "2                                      53.229534   \n",
              "3                                      48.865942   \n",
              "4                                      36.117659   \n",
              "\n",
              "    Excess kurtosis of the integrated profile  \\\n",
              "0                                    0.375485   \n",
              "1                                    0.712898   \n",
              "2                                    0.133408   \n",
              "3                                   -0.215989   \n",
              "4                                    0.825013   \n",
              "\n",
              "    Skewness of the integrated profile   Mean of the DM-SNR curve  \\\n",
              "0                            -0.013165                   3.168896   \n",
              "1                             3.388719                   2.399666   \n",
              "2                            -0.297242                   2.743311   \n",
              "3                            -0.171294                  17.471572   \n",
              "4                             3.274125                   2.790134   \n",
              "\n",
              "    Standard deviation of the DM-SNR curve  \\\n",
              "0                                18.399367   \n",
              "1                                17.570997   \n",
              "2                                22.362553   \n",
              "3                                      NaN   \n",
              "4                                20.618009   \n",
              "\n",
              "    Excess kurtosis of the DM-SNR curve   Skewness of the DM-SNR curve  \\\n",
              "0                              7.449874                      65.159298   \n",
              "1                              9.414652                     102.722975   \n",
              "2                              8.508364                      74.031324   \n",
              "3                              2.958066                       7.197842   \n",
              "4                              8.405008                      76.291128   \n",
              "\n",
              "   target_class  \n",
              "0           0.0  \n",
              "1           0.0  \n",
              "2           0.0  \n",
              "3           0.0  \n",
              "4           0.0  "
            ],
            "text/html": [
              "\n",
              "  <div id=\"df-1a4e90f8-7a0f-4b08-96ed-9ed7008f2ffc\" class=\"colab-df-container\">\n",
              "    <div>\n",
              "<style scoped>\n",
              "    .dataframe tbody tr th:only-of-type {\n",
              "        vertical-align: middle;\n",
              "    }\n",
              "\n",
              "    .dataframe tbody tr th {\n",
              "        vertical-align: top;\n",
              "    }\n",
              "\n",
              "    .dataframe thead th {\n",
              "        text-align: right;\n",
              "    }\n",
              "</style>\n",
              "<table border=\"1\" class=\"dataframe\">\n",
              "  <thead>\n",
              "    <tr style=\"text-align: right;\">\n",
              "      <th></th>\n",
              "      <th>Mean of the integrated profile</th>\n",
              "      <th>Standard deviation of the integrated profile</th>\n",
              "      <th>Excess kurtosis of the integrated profile</th>\n",
              "      <th>Skewness of the integrated profile</th>\n",
              "      <th>Mean of the DM-SNR curve</th>\n",
              "      <th>Standard deviation of the DM-SNR curve</th>\n",
              "      <th>Excess kurtosis of the DM-SNR curve</th>\n",
              "      <th>Skewness of the DM-SNR curve</th>\n",
              "      <th>target_class</th>\n",
              "    </tr>\n",
              "  </thead>\n",
              "  <tbody>\n",
              "    <tr>\n",
              "      <th>0</th>\n",
              "      <td>121.156250</td>\n",
              "      <td>48.372971</td>\n",
              "      <td>0.375485</td>\n",
              "      <td>-0.013165</td>\n",
              "      <td>3.168896</td>\n",
              "      <td>18.399367</td>\n",
              "      <td>7.449874</td>\n",
              "      <td>65.159298</td>\n",
              "      <td>0.0</td>\n",
              "    </tr>\n",
              "    <tr>\n",
              "      <th>1</th>\n",
              "      <td>76.968750</td>\n",
              "      <td>36.175557</td>\n",
              "      <td>0.712898</td>\n",
              "      <td>3.388719</td>\n",
              "      <td>2.399666</td>\n",
              "      <td>17.570997</td>\n",
              "      <td>9.414652</td>\n",
              "      <td>102.722975</td>\n",
              "      <td>0.0</td>\n",
              "    </tr>\n",
              "    <tr>\n",
              "      <th>2</th>\n",
              "      <td>130.585938</td>\n",
              "      <td>53.229534</td>\n",
              "      <td>0.133408</td>\n",
              "      <td>-0.297242</td>\n",
              "      <td>2.743311</td>\n",
              "      <td>22.362553</td>\n",
              "      <td>8.508364</td>\n",
              "      <td>74.031324</td>\n",
              "      <td>0.0</td>\n",
              "    </tr>\n",
              "    <tr>\n",
              "      <th>3</th>\n",
              "      <td>156.398438</td>\n",
              "      <td>48.865942</td>\n",
              "      <td>-0.215989</td>\n",
              "      <td>-0.171294</td>\n",
              "      <td>17.471572</td>\n",
              "      <td>NaN</td>\n",
              "      <td>2.958066</td>\n",
              "      <td>7.197842</td>\n",
              "      <td>0.0</td>\n",
              "    </tr>\n",
              "    <tr>\n",
              "      <th>4</th>\n",
              "      <td>84.804688</td>\n",
              "      <td>36.117659</td>\n",
              "      <td>0.825013</td>\n",
              "      <td>3.274125</td>\n",
              "      <td>2.790134</td>\n",
              "      <td>20.618009</td>\n",
              "      <td>8.405008</td>\n",
              "      <td>76.291128</td>\n",
              "      <td>0.0</td>\n",
              "    </tr>\n",
              "  </tbody>\n",
              "</table>\n",
              "</div>\n",
              "    <div class=\"colab-df-buttons\">\n",
              "\n",
              "  <div class=\"colab-df-container\">\n",
              "    <button class=\"colab-df-convert\" onclick=\"convertToInteractive('df-1a4e90f8-7a0f-4b08-96ed-9ed7008f2ffc')\"\n",
              "            title=\"Convert this dataframe to an interactive table.\"\n",
              "            style=\"display:none;\">\n",
              "\n",
              "  <svg xmlns=\"http://www.w3.org/2000/svg\" height=\"24px\" viewBox=\"0 -960 960 960\">\n",
              "    <path d=\"M120-120v-720h720v720H120Zm60-500h600v-160H180v160Zm220 220h160v-160H400v160Zm0 220h160v-160H400v160ZM180-400h160v-160H180v160Zm440 0h160v-160H620v160ZM180-180h160v-160H180v160Zm440 0h160v-160H620v160Z\"/>\n",
              "  </svg>\n",
              "    </button>\n",
              "\n",
              "  <style>\n",
              "    .colab-df-container {\n",
              "      display:flex;\n",
              "      gap: 12px;\n",
              "    }\n",
              "\n",
              "    .colab-df-convert {\n",
              "      background-color: #E8F0FE;\n",
              "      border: none;\n",
              "      border-radius: 50%;\n",
              "      cursor: pointer;\n",
              "      display: none;\n",
              "      fill: #1967D2;\n",
              "      height: 32px;\n",
              "      padding: 0 0 0 0;\n",
              "      width: 32px;\n",
              "    }\n",
              "\n",
              "    .colab-df-convert:hover {\n",
              "      background-color: #E2EBFA;\n",
              "      box-shadow: 0px 1px 2px rgba(60, 64, 67, 0.3), 0px 1px 3px 1px rgba(60, 64, 67, 0.15);\n",
              "      fill: #174EA6;\n",
              "    }\n",
              "\n",
              "    .colab-df-buttons div {\n",
              "      margin-bottom: 4px;\n",
              "    }\n",
              "\n",
              "    [theme=dark] .colab-df-convert {\n",
              "      background-color: #3B4455;\n",
              "      fill: #D2E3FC;\n",
              "    }\n",
              "\n",
              "    [theme=dark] .colab-df-convert:hover {\n",
              "      background-color: #434B5C;\n",
              "      box-shadow: 0px 1px 3px 1px rgba(0, 0, 0, 0.15);\n",
              "      filter: drop-shadow(0px 1px 2px rgba(0, 0, 0, 0.3));\n",
              "      fill: #FFFFFF;\n",
              "    }\n",
              "  </style>\n",
              "\n",
              "    <script>\n",
              "      const buttonEl =\n",
              "        document.querySelector('#df-1a4e90f8-7a0f-4b08-96ed-9ed7008f2ffc button.colab-df-convert');\n",
              "      buttonEl.style.display =\n",
              "        google.colab.kernel.accessAllowed ? 'block' : 'none';\n",
              "\n",
              "      async function convertToInteractive(key) {\n",
              "        const element = document.querySelector('#df-1a4e90f8-7a0f-4b08-96ed-9ed7008f2ffc');\n",
              "        const dataTable =\n",
              "          await google.colab.kernel.invokeFunction('convertToInteractive',\n",
              "                                                    [key], {});\n",
              "        if (!dataTable) return;\n",
              "\n",
              "        const docLinkHtml = 'Like what you see? Visit the ' +\n",
              "          '<a target=\"_blank\" href=https://colab.research.google.com/notebooks/data_table.ipynb>data table notebook</a>'\n",
              "          + ' to learn more about interactive tables.';\n",
              "        element.innerHTML = '';\n",
              "        dataTable['output_type'] = 'display_data';\n",
              "        await google.colab.output.renderOutput(dataTable, element);\n",
              "        const docLink = document.createElement('div');\n",
              "        docLink.innerHTML = docLinkHtml;\n",
              "        element.appendChild(docLink);\n",
              "      }\n",
              "    </script>\n",
              "  </div>\n",
              "\n",
              "\n",
              "<div id=\"df-8411b0a7-7f9a-4f1c-ab06-5e3939a38858\">\n",
              "  <button class=\"colab-df-quickchart\" onclick=\"quickchart('df-8411b0a7-7f9a-4f1c-ab06-5e3939a38858')\"\n",
              "            title=\"Suggest charts\"\n",
              "            style=\"display:none;\">\n",
              "\n",
              "<svg xmlns=\"http://www.w3.org/2000/svg\" height=\"24px\"viewBox=\"0 0 24 24\"\n",
              "     width=\"24px\">\n",
              "    <g>\n",
              "        <path d=\"M19 3H5c-1.1 0-2 .9-2 2v14c0 1.1.9 2 2 2h14c1.1 0 2-.9 2-2V5c0-1.1-.9-2-2-2zM9 17H7v-7h2v7zm4 0h-2V7h2v10zm4 0h-2v-4h2v4z\"/>\n",
              "    </g>\n",
              "</svg>\n",
              "  </button>\n",
              "\n",
              "<style>\n",
              "  .colab-df-quickchart {\n",
              "      --bg-color: #E8F0FE;\n",
              "      --fill-color: #1967D2;\n",
              "      --hover-bg-color: #E2EBFA;\n",
              "      --hover-fill-color: #174EA6;\n",
              "      --disabled-fill-color: #AAA;\n",
              "      --disabled-bg-color: #DDD;\n",
              "  }\n",
              "\n",
              "  [theme=dark] .colab-df-quickchart {\n",
              "      --bg-color: #3B4455;\n",
              "      --fill-color: #D2E3FC;\n",
              "      --hover-bg-color: #434B5C;\n",
              "      --hover-fill-color: #FFFFFF;\n",
              "      --disabled-bg-color: #3B4455;\n",
              "      --disabled-fill-color: #666;\n",
              "  }\n",
              "\n",
              "  .colab-df-quickchart {\n",
              "    background-color: var(--bg-color);\n",
              "    border: none;\n",
              "    border-radius: 50%;\n",
              "    cursor: pointer;\n",
              "    display: none;\n",
              "    fill: var(--fill-color);\n",
              "    height: 32px;\n",
              "    padding: 0;\n",
              "    width: 32px;\n",
              "  }\n",
              "\n",
              "  .colab-df-quickchart:hover {\n",
              "    background-color: var(--hover-bg-color);\n",
              "    box-shadow: 0 1px 2px rgba(60, 64, 67, 0.3), 0 1px 3px 1px rgba(60, 64, 67, 0.15);\n",
              "    fill: var(--button-hover-fill-color);\n",
              "  }\n",
              "\n",
              "  .colab-df-quickchart-complete:disabled,\n",
              "  .colab-df-quickchart-complete:disabled:hover {\n",
              "    background-color: var(--disabled-bg-color);\n",
              "    fill: var(--disabled-fill-color);\n",
              "    box-shadow: none;\n",
              "  }\n",
              "\n",
              "  .colab-df-spinner {\n",
              "    border: 2px solid var(--fill-color);\n",
              "    border-color: transparent;\n",
              "    border-bottom-color: var(--fill-color);\n",
              "    animation:\n",
              "      spin 1s steps(1) infinite;\n",
              "  }\n",
              "\n",
              "  @keyframes spin {\n",
              "    0% {\n",
              "      border-color: transparent;\n",
              "      border-bottom-color: var(--fill-color);\n",
              "      border-left-color: var(--fill-color);\n",
              "    }\n",
              "    20% {\n",
              "      border-color: transparent;\n",
              "      border-left-color: var(--fill-color);\n",
              "      border-top-color: var(--fill-color);\n",
              "    }\n",
              "    30% {\n",
              "      border-color: transparent;\n",
              "      border-left-color: var(--fill-color);\n",
              "      border-top-color: var(--fill-color);\n",
              "      border-right-color: var(--fill-color);\n",
              "    }\n",
              "    40% {\n",
              "      border-color: transparent;\n",
              "      border-right-color: var(--fill-color);\n",
              "      border-top-color: var(--fill-color);\n",
              "    }\n",
              "    60% {\n",
              "      border-color: transparent;\n",
              "      border-right-color: var(--fill-color);\n",
              "    }\n",
              "    80% {\n",
              "      border-color: transparent;\n",
              "      border-right-color: var(--fill-color);\n",
              "      border-bottom-color: var(--fill-color);\n",
              "    }\n",
              "    90% {\n",
              "      border-color: transparent;\n",
              "      border-bottom-color: var(--fill-color);\n",
              "    }\n",
              "  }\n",
              "</style>\n",
              "\n",
              "  <script>\n",
              "    async function quickchart(key) {\n",
              "      const quickchartButtonEl =\n",
              "        document.querySelector('#' + key + ' button');\n",
              "      quickchartButtonEl.disabled = true;  // To prevent multiple clicks.\n",
              "      quickchartButtonEl.classList.add('colab-df-spinner');\n",
              "      try {\n",
              "        const charts = await google.colab.kernel.invokeFunction(\n",
              "            'suggestCharts', [key], {});\n",
              "      } catch (error) {\n",
              "        console.error('Error during call to suggestCharts:', error);\n",
              "      }\n",
              "      quickchartButtonEl.classList.remove('colab-df-spinner');\n",
              "      quickchartButtonEl.classList.add('colab-df-quickchart-complete');\n",
              "    }\n",
              "    (() => {\n",
              "      let quickchartButtonEl =\n",
              "        document.querySelector('#df-8411b0a7-7f9a-4f1c-ab06-5e3939a38858 button');\n",
              "      quickchartButtonEl.style.display =\n",
              "        google.colab.kernel.accessAllowed ? 'block' : 'none';\n",
              "    })();\n",
              "  </script>\n",
              "</div>\n",
              "\n",
              "    </div>\n",
              "  </div>\n"
            ]
          },
          "metadata": {},
          "execution_count": 9
        }
      ]
    },
    {
      "cell_type": "markdown",
      "source": [
        "##Q2 Carry out data pre-processing"
      ],
      "metadata": {
        "id": "naklkC17ALnZ"
      }
    },
    {
      "cell_type": "code",
      "source": [
        "df.info()"
      ],
      "metadata": {
        "colab": {
          "base_uri": "https://localhost:8080/"
        },
        "id": "PH4unlbSphfw",
        "outputId": "88391de7-9e47-44d8-89a7-6e877584040e"
      },
      "execution_count": 10,
      "outputs": [
        {
          "output_type": "stream",
          "name": "stdout",
          "text": [
            "<class 'pandas.core.frame.DataFrame'>\n",
            "RangeIndex: 12528 entries, 0 to 12527\n",
            "Data columns (total 9 columns):\n",
            " #   Column                                         Non-Null Count  Dtype  \n",
            "---  ------                                         --------------  -----  \n",
            " 0    Mean of the integrated profile                12528 non-null  float64\n",
            " 1    Standard deviation of the integrated profile  12528 non-null  float64\n",
            " 2    Excess kurtosis of the integrated profile     10793 non-null  float64\n",
            " 3    Skewness of the integrated profile            12528 non-null  float64\n",
            " 4    Mean of the DM-SNR curve                      12528 non-null  float64\n",
            " 5    Standard deviation of the DM-SNR curve        11350 non-null  float64\n",
            " 6    Excess kurtosis of the DM-SNR curve           12528 non-null  float64\n",
            " 7    Skewness of the DM-SNR curve                  11903 non-null  float64\n",
            " 8   target_class                                   12528 non-null  float64\n",
            "dtypes: float64(9)\n",
            "memory usage: 881.0 KB\n"
          ]
        }
      ]
    },
    {
      "cell_type": "code",
      "source": [
        "df.isnull().sum()"
      ],
      "metadata": {
        "colab": {
          "base_uri": "https://localhost:8080/"
        },
        "id": "7OixIKa-pp0V",
        "outputId": "f5c778cc-c2a7-4b17-a193-02cc496402c6"
      },
      "execution_count": 11,
      "outputs": [
        {
          "output_type": "execute_result",
          "data": {
            "text/plain": [
              " Mean of the integrated profile                     0\n",
              " Standard deviation of the integrated profile       0\n",
              " Excess kurtosis of the integrated profile       1735\n",
              " Skewness of the integrated profile                 0\n",
              " Mean of the DM-SNR curve                           0\n",
              " Standard deviation of the DM-SNR curve          1178\n",
              " Excess kurtosis of the DM-SNR curve                0\n",
              " Skewness of the DM-SNR curve                     625\n",
              "target_class                                        0\n",
              "dtype: int64"
            ]
          },
          "metadata": {},
          "execution_count": 11
        }
      ]
    },
    {
      "cell_type": "code",
      "source": [
        "df.fillna(df.mean(), inplace=True)"
      ],
      "metadata": {
        "id": "8zMcN8_cpqBf"
      },
      "execution_count": 12,
      "outputs": []
    },
    {
      "cell_type": "code",
      "source": [
        "df.isnull().sum()"
      ],
      "metadata": {
        "colab": {
          "base_uri": "https://localhost:8080/"
        },
        "id": "Kwo8m13PqD3E",
        "outputId": "b94e3e0c-165d-4712-8d75-a4dd9db70f8f"
      },
      "execution_count": 13,
      "outputs": [
        {
          "output_type": "execute_result",
          "data": {
            "text/plain": [
              " Mean of the integrated profile                  0\n",
              " Standard deviation of the integrated profile    0\n",
              " Excess kurtosis of the integrated profile       0\n",
              " Skewness of the integrated profile              0\n",
              " Mean of the DM-SNR curve                        0\n",
              " Standard deviation of the DM-SNR curve          0\n",
              " Excess kurtosis of the DM-SNR curve             0\n",
              " Skewness of the DM-SNR curve                    0\n",
              "target_class                                     0\n",
              "dtype: int64"
            ]
          },
          "metadata": {},
          "execution_count": 13
        }
      ]
    },
    {
      "cell_type": "code",
      "source": [
        "X = df.drop('target_class', axis=1)\n",
        "y = df['target_class']"
      ],
      "metadata": {
        "id": "scAg1Mt0rqqS"
      },
      "execution_count": 14,
      "outputs": []
    },
    {
      "cell_type": "markdown",
      "source": [
        "##Q3 Scale the data using Standard Scaler"
      ],
      "metadata": {
        "id": "qfCEvxCTAWMV"
      }
    },
    {
      "cell_type": "markdown",
      "source": [
        "####Q3a According to you, why is scaling important in SVM? What are the different methods for scaling the data available in sklearn.preprocessing?"
      ],
      "metadata": {
        "id": "9TiEh5yjAvmi"
      }
    },
    {
      "cell_type": "code",
      "source": [
        "from sklearn.preprocessing import StandardScaler\n",
        "\n",
        "\n",
        "scaler = StandardScaler()\n",
        "X_s = scaler.fit_transform(X)"
      ],
      "metadata": {
        "id": "IZH32pSW8Ste"
      },
      "execution_count": 15,
      "outputs": []
    },
    {
      "cell_type": "markdown",
      "source": [
        "##Q4 Split the data in traina and test set"
      ],
      "metadata": {
        "id": "ris4X7S3Bg3E"
      }
    },
    {
      "cell_type": "code",
      "source": [
        "from sklearn.model_selection import train_test_split\n",
        "X_train, X_test, y_train, y_test = train_test_split(X, y, test_size=0.2, random_state=42)\n"
      ],
      "metadata": {
        "id": "6tRph5J18UcR"
      },
      "execution_count": 16,
      "outputs": []
    },
    {
      "cell_type": "markdown",
      "source": [
        "##Q5 Implement SVM"
      ],
      "metadata": {
        "id": "fmrpw-xPAT5i"
      }
    },
    {
      "cell_type": "markdown",
      "source": [
        "Different types of kernels in SVM:\n",
        "https://www.kaggle.com/discussions/questions-and-answers/326336\n"
      ],
      "metadata": {
        "id": "hnSv4K9cFBnk"
      }
    },
    {
      "cell_type": "markdown",
      "source": [
        "###Q5a Linear SVM\n",
        "\n",
        "Apply Linear SVM for costs (C) = [0.1, 1, 10, 100, 1000], predict for the test set and check f1 score for each of the costs. State the best cost"
      ],
      "metadata": {
        "id": "QXZCpBvDAZIQ"
      }
    },
    {
      "cell_type": "code",
      "source": [
        "from sklearn.svm import SVC\n",
        "from sklearn.metrics import f1_score\n",
        "\n",
        "cost_values = [0.1, 1, 10, 100, 1000]\n",
        "\n",
        "best = 0\n",
        "best_cost = None\n",
        "\n",
        "for cost in cost_values:\n",
        "    svm = SVC(C=cost, kernel='linear', random_state=1)\n",
        "\n",
        "    svm.fit(X_train, y_train)\n",
        "\n",
        "    y_pred = svm.predict(X_test)\n",
        "\n",
        "    f1 = f1_score(y_test, y_pred)\n",
        "\n",
        "    print(f\"F1 Score ={cost}: {f1}\")\n",
        "\n",
        "    if f1 > best:\n",
        "        best = f1\n",
        "        best_cost = cost\n",
        "\n",
        "print(\"\\nBest F1 Score:\", best)\n",
        "print(\"Best Cost (C):\", best_cost)\n"
      ],
      "metadata": {
        "id": "XQ_H9e8Z8WRY",
        "colab": {
          "base_uri": "https://localhost:8080/"
        },
        "outputId": "6acb0346-00eb-4921-fc61-da2bfeb4359f"
      },
      "execution_count": 17,
      "outputs": [
        {
          "output_type": "stream",
          "name": "stdout",
          "text": [
            "F1 Score =0.1: 0.8661800486618005\n",
            "F1 Score =1: 0.8640776699029126\n",
            "F1 Score =10: 0.865525672371638\n",
            "F1 Score =100: 0.8619854721549637\n",
            "F1 Score =1000: 0.8689320388349514\n",
            "\n",
            "Best F1 Score: 0.8689320388349514\n",
            "Best Cost (C): 1000\n"
          ]
        }
      ]
    },
    {
      "cell_type": "markdown",
      "source": [
        "###Q5b Polynomial Kernel"
      ],
      "metadata": {
        "id": "ZfPGIeT6EO1e"
      }
    },
    {
      "cell_type": "markdown",
      "source": [
        "Apply Linear SVM for degrees = [1,2,3,4,5], predict for the test set and check f1 score for each of the degrees. State the best degree."
      ],
      "metadata": {
        "id": "3vwpxFdTEOx3"
      }
    },
    {
      "cell_type": "code",
      "source": [
        "degree_values = [1, 2, 3, 4, 5]\n",
        "\n",
        "best_f1_score = 0\n",
        "best_degree = None\n",
        "\n",
        "for degree in degree_values:\n",
        "    poly_svm = SVC(kernel='poly', degree=degree, random_state=1)\n",
        "\n",
        "    poly_svm.fit(X_train, y_train)\n",
        "\n",
        "    y_pred = poly_svm.predict(X_test)\n",
        "\n",
        "    f1 = f1_score(y_test, y_pred)\n",
        "\n",
        "    print(f\"F1 Score for Degree={degree}: {f1}\")\n",
        "\n",
        "    if f1 > best_f1_score:\n",
        "        best_f1_score = f1\n",
        "        best_degree = degree\n",
        "\n",
        "print(\"\\nBest F1 Score:\", best_f1_score)\n",
        "print(\"Best Degree:\", best_degree)\n"
      ],
      "metadata": {
        "id": "doPCbujkDpaP",
        "colab": {
          "base_uri": "https://localhost:8080/"
        },
        "outputId": "a3c65144-5fb8-4b5c-e92e-9d342d3a9c92"
      },
      "execution_count": 18,
      "outputs": [
        {
          "output_type": "stream",
          "name": "stdout",
          "text": [
            "F1 Score for Degree=1: 0.8197530864197531\n",
            "F1 Score for Degree=2: 0.8255528255528255\n",
            "F1 Score for Degree=3: 0.8300970873786407\n",
            "F1 Score for Degree=4: 0.8443396226415094\n",
            "F1 Score for Degree=5: 0.8314087759815242\n",
            "\n",
            "Best F1 Score: 0.8443396226415094\n",
            "Best Degree: 4\n"
          ]
        }
      ]
    },
    {
      "cell_type": "markdown",
      "source": [
        "###Q5c Sigmoid Kernel"
      ],
      "metadata": {
        "id": "3RnH4YwDDt8_"
      }
    },
    {
      "cell_type": "markdown",
      "source": [
        "Apply Linear SVM for costs (C) = [0.1, 1, 10, 100, 1000], predict for the test set and check f1 score for each of the costs. State the best cost"
      ],
      "metadata": {
        "id": "0xQpdX-6D5By"
      }
    },
    {
      "cell_type": "code",
      "source": [
        "coeff_v = [0.1, 1, 10, 100, 1000]\n",
        "gamma_v = [0.1, 1, 10, 100, 1000]\n",
        "\n",
        "best_f1_score = 0\n",
        "best_parameters = None\n",
        "\n",
        "for coeff in coeff_v:\n",
        "    for gamma in gamma_v:\n",
        "        sig_svm = SVC(kernel='sigmoid', coef0=coeff, gamma=gamma, random_state=42)\n",
        "\n",
        "        sig_svm.fit(X_train, y_train)\n",
        "\n",
        "        y_pred = sig_svm.predict(X_test)\n",
        "\n",
        "        f1 = f1_score(y_test, y_pred)\n",
        "\n",
        "        print(f\"F1 Score for (coef0={coeff}, gamma={gamma}): {f1}\")\n",
        "\n",
        "        if f1 > best_f1_score:\n",
        "            best_f1_score = f1\n",
        "            best_parameters = (coeff, gamma)\n",
        "\n",
        "print(\"\\nBest F1 Score:\", best_f1_score)\n",
        "print(\"Best Parameters (coef0, gamma):\", best_parameters)\n"
      ],
      "metadata": {
        "id": "mtJYyYDRDRkA",
        "colab": {
          "base_uri": "https://localhost:8080/"
        },
        "outputId": "ce073092-ddca-4dc6-c07a-de2dcf16ece6"
      },
      "execution_count": 20,
      "outputs": [
        {
          "output_type": "stream",
          "name": "stdout",
          "text": [
            "F1 Score for (coef0=0.1, gamma=0.1): 0.0\n",
            "F1 Score for (coef0=0.1, gamma=1): 0.0\n",
            "F1 Score for (coef0=0.1, gamma=10): 0.0\n",
            "F1 Score for (coef0=0.1, gamma=100): 0.0\n",
            "F1 Score for (coef0=0.1, gamma=1000): 0.0\n",
            "F1 Score for (coef0=1, gamma=0.1): 0.0\n",
            "F1 Score for (coef0=1, gamma=1): 0.0\n",
            "F1 Score for (coef0=1, gamma=10): 0.0\n",
            "F1 Score for (coef0=1, gamma=100): 0.0\n",
            "F1 Score for (coef0=1, gamma=1000): 0.0\n",
            "F1 Score for (coef0=10, gamma=0.1): 0.0\n",
            "F1 Score for (coef0=10, gamma=1): 0.0\n",
            "F1 Score for (coef0=10, gamma=10): 0.0\n",
            "F1 Score for (coef0=10, gamma=100): 0.0\n",
            "F1 Score for (coef0=10, gamma=1000): 0.0\n",
            "F1 Score for (coef0=100, gamma=0.1): 0.0\n",
            "F1 Score for (coef0=100, gamma=1): 0.0\n",
            "F1 Score for (coef0=100, gamma=10): 0.0\n",
            "F1 Score for (coef0=100, gamma=100): 0.0\n",
            "F1 Score for (coef0=100, gamma=1000): 0.0\n",
            "F1 Score for (coef0=1000, gamma=0.1): 0.0\n",
            "F1 Score for (coef0=1000, gamma=1): 0.0\n",
            "F1 Score for (coef0=1000, gamma=10): 0.0\n",
            "F1 Score for (coef0=1000, gamma=100): 0.0\n",
            "F1 Score for (coef0=1000, gamma=1000): 0.0\n",
            "\n",
            "Best F1 Score: 0\n",
            "Best Parameters (coef0, gamma): None\n"
          ]
        }
      ]
    },
    {
      "cell_type": "markdown",
      "source": [
        "###Q5d RBF Kernel"
      ],
      "metadata": {
        "id": "xtz9KvY6AcE9"
      }
    },
    {
      "cell_type": "markdown",
      "source": [
        "Apply Linear SVM for costs (C) = [0.1, 1, 10, 100, 1000], predict for the test set and check f1 score for each of the costs. State the best cost"
      ],
      "metadata": {
        "id": "S85NYKGkDj0D"
      }
    },
    {
      "cell_type": "code",
      "source": [
        "from sklearn.svm import SVC\n",
        "from sklearn.metrics import f1_score\n",
        "from sklearn.model_selection import train_test_split\n",
        "\n",
        "gamma_values = [0.1, 1, 10, 100, 1000]\n",
        "C_values = [0.1, 1, 10, 100, 1000]\n",
        "\n",
        "best_f1_score = 0\n",
        "best_parameters = None\n",
        "\n",
        "for gamma in gamma_values:\n",
        "    for C in C_values:\n",
        "\n",
        "        rbf_svm = SVC(kernel='rbf', gamma=gamma, C=C, random_state=42)\n",
        "\n",
        "        rbf_svm.fit(X_train, y_train)\n",
        "\n",
        "        y_pred = rbf_svm.predict(X_test)\n",
        "\n",
        "        f1 = f1_score(y_test, y_pred)\n",
        "\n",
        "        print(f\"F1 Score for (gamma={gamma}, C={C}): {f1}\")\n",
        "\n",
        "        if f1 > best_f1_score:\n",
        "            best_f1_score = f1\n",
        "            best_parameters = (gamma, C)\n",
        "\n",
        "print(\"\\nBest F1 Score:\", best_f1_score)\n",
        "print(\"Best Parameters (gamma, C):\", best_parameters)\n"
      ],
      "metadata": {
        "id": "oeA1eR798Z7f",
        "colab": {
          "base_uri": "https://localhost:8080/"
        },
        "outputId": "8f25fd6f-a4e5-4115-8df6-0af35a743539"
      },
      "execution_count": 19,
      "outputs": [
        {
          "output_type": "stream",
          "name": "stdout",
          "text": [
            "F1 Score for (gamma=0.1, C=0.1): 0.0\n",
            "F1 Score for (gamma=0.1, C=1): 0.017467248908296942\n",
            "F1 Score for (gamma=0.1, C=10): 0.09600000000000002\n",
            "F1 Score for (gamma=0.1, C=100): 0.09600000000000002\n",
            "F1 Score for (gamma=0.1, C=1000): 0.09600000000000002\n",
            "F1 Score for (gamma=1, C=0.1): 0.0\n",
            "F1 Score for (gamma=1, C=1): 0.0\n",
            "F1 Score for (gamma=1, C=10): 0.0\n",
            "F1 Score for (gamma=1, C=100): 0.0\n",
            "F1 Score for (gamma=1, C=1000): 0.0\n",
            "F1 Score for (gamma=10, C=0.1): 0.0\n",
            "F1 Score for (gamma=10, C=1): 0.0\n",
            "F1 Score for (gamma=10, C=10): 0.0\n",
            "F1 Score for (gamma=10, C=100): 0.0\n",
            "F1 Score for (gamma=10, C=1000): 0.0\n",
            "F1 Score for (gamma=100, C=0.1): 0.0\n",
            "F1 Score for (gamma=100, C=1): 0.0\n",
            "F1 Score for (gamma=100, C=10): 0.0\n",
            "F1 Score for (gamma=100, C=100): 0.0\n",
            "F1 Score for (gamma=100, C=1000): 0.0\n",
            "F1 Score for (gamma=1000, C=0.1): 0.0\n",
            "F1 Score for (gamma=1000, C=1): 0.0\n",
            "F1 Score for (gamma=1000, C=10): 0.0\n",
            "F1 Score for (gamma=1000, C=100): 0.0\n",
            "F1 Score for (gamma=1000, C=1000): 0.0\n",
            "\n",
            "Best F1 Score: 0.09600000000000002\n",
            "Best Parameters (gamma, C): (0.1, 10)\n"
          ]
        }
      ]
    },
    {
      "cell_type": "code",
      "source": [],
      "metadata": {
        "id": "RCp3wPY_4I42"
      },
      "execution_count": null,
      "outputs": []
    }
  ]
}