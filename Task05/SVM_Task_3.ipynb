{
  "nbformat": 4,
  "nbformat_minor": 0,
  "metadata": {
    "colab": {
      "provenance": [],
      "toc_visible": true
    },
    "kernelspec": {
      "name": "python3",
      "display_name": "Python 3"
    },
    "language_info": {
      "name": "python"
    }
  },
  "cells": [
    {
      "cell_type": "markdown",
      "source": [
        "Dataset Link:\n",
        "https://drive.google.com/file/d/1DLjBn6uLiCT6Cg8TtR87cK-lYwaOQr6F/view?usp=sharing\n"
      ],
      "metadata": {
        "id": "Q7k_9lm5Oizs"
      }
    },
    {
      "cell_type": "markdown",
      "source": [
        "Dataset column information:\n",
        "\n",
        "\n",
        "\n",
        "![image.png](data:image/png;base64,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)"
      ],
      "metadata": {
        "id": "Nl7nwcAAOGrI"
      }
    },
    {
      "cell_type": "markdown",
      "source": [
        "##Q1 Import the libraries and dataset"
      ],
      "metadata": {
        "id": "vpqcPlEqSaIs"
      }
    },
    {
      "cell_type": "code",
      "source": [
        "from google.colab import drive\n",
        "drive.mount('/content/drive')"
      ],
      "metadata": {
        "id": "2cuKb6KKW1iG",
        "colab": {
          "base_uri": "https://localhost:8080/"
        },
        "outputId": "6fa4fb98-8f70-4e13-d7b0-54be44917119"
      },
      "execution_count": 1,
      "outputs": [
        {
          "output_type": "stream",
          "name": "stdout",
          "text": [
            "Mounted at /content/drive\n"
          ]
        }
      ]
    },
    {
      "cell_type": "code",
      "source": [
        "import pandas as pd\n",
        "link= f'https://drive.google.com/file/d/1DLjBn6uLiCT6Cg8TtR87cK-lYwaOQr6F/view?usp=sharing'\n",
        "df=pd.read_csv('/content/drive/MyDrive/Data.csv')\n",
        "df"
      ],
      "metadata": {
        "colab": {
          "base_uri": "https://localhost:8080/",
          "height": 423
        },
        "id": "gqMMe8Azy8sM",
        "outputId": "d960cf57-ac3d-4daa-bc86-ae00b318d70b"
      },
      "execution_count": 16,
      "outputs": [
        {
          "output_type": "execute_result",
          "data": {
            "text/plain": [
              "         AT      V       AP     RH      PE\n",
              "0     14.96  41.76  1024.07  73.17  463.26\n",
              "1     25.18  62.96  1020.04  59.08  444.37\n",
              "2      5.11  39.40  1012.16  92.14  488.56\n",
              "3     20.86  57.32  1010.24  76.64  446.48\n",
              "4     10.82  37.50  1009.23  96.62  473.90\n",
              "...     ...    ...      ...    ...     ...\n",
              "9563  16.65  49.69  1014.01  91.00  460.03\n",
              "9564  13.19  39.18  1023.67  66.78  469.62\n",
              "9565  31.32  74.33  1012.92  36.48  429.57\n",
              "9566  24.48  69.45  1013.86  62.39  435.74\n",
              "9567  21.60  62.52  1017.23  67.87  453.28\n",
              "\n",
              "[9568 rows x 5 columns]"
            ],
            "text/html": [
              "\n",
              "  <div id=\"df-71aea9e1-3c22-448a-a208-a145a0c727b3\" class=\"colab-df-container\">\n",
              "    <div>\n",
              "<style scoped>\n",
              "    .dataframe tbody tr th:only-of-type {\n",
              "        vertical-align: middle;\n",
              "    }\n",
              "\n",
              "    .dataframe tbody tr th {\n",
              "        vertical-align: top;\n",
              "    }\n",
              "\n",
              "    .dataframe thead th {\n",
              "        text-align: right;\n",
              "    }\n",
              "</style>\n",
              "<table border=\"1\" class=\"dataframe\">\n",
              "  <thead>\n",
              "    <tr style=\"text-align: right;\">\n",
              "      <th></th>\n",
              "      <th>AT</th>\n",
              "      <th>V</th>\n",
              "      <th>AP</th>\n",
              "      <th>RH</th>\n",
              "      <th>PE</th>\n",
              "    </tr>\n",
              "  </thead>\n",
              "  <tbody>\n",
              "    <tr>\n",
              "      <th>0</th>\n",
              "      <td>14.96</td>\n",
              "      <td>41.76</td>\n",
              "      <td>1024.07</td>\n",
              "      <td>73.17</td>\n",
              "      <td>463.26</td>\n",
              "    </tr>\n",
              "    <tr>\n",
              "      <th>1</th>\n",
              "      <td>25.18</td>\n",
              "      <td>62.96</td>\n",
              "      <td>1020.04</td>\n",
              "      <td>59.08</td>\n",
              "      <td>444.37</td>\n",
              "    </tr>\n",
              "    <tr>\n",
              "      <th>2</th>\n",
              "      <td>5.11</td>\n",
              "      <td>39.40</td>\n",
              "      <td>1012.16</td>\n",
              "      <td>92.14</td>\n",
              "      <td>488.56</td>\n",
              "    </tr>\n",
              "    <tr>\n",
              "      <th>3</th>\n",
              "      <td>20.86</td>\n",
              "      <td>57.32</td>\n",
              "      <td>1010.24</td>\n",
              "      <td>76.64</td>\n",
              "      <td>446.48</td>\n",
              "    </tr>\n",
              "    <tr>\n",
              "      <th>4</th>\n",
              "      <td>10.82</td>\n",
              "      <td>37.50</td>\n",
              "      <td>1009.23</td>\n",
              "      <td>96.62</td>\n",
              "      <td>473.90</td>\n",
              "    </tr>\n",
              "    <tr>\n",
              "      <th>...</th>\n",
              "      <td>...</td>\n",
              "      <td>...</td>\n",
              "      <td>...</td>\n",
              "      <td>...</td>\n",
              "      <td>...</td>\n",
              "    </tr>\n",
              "    <tr>\n",
              "      <th>9563</th>\n",
              "      <td>16.65</td>\n",
              "      <td>49.69</td>\n",
              "      <td>1014.01</td>\n",
              "      <td>91.00</td>\n",
              "      <td>460.03</td>\n",
              "    </tr>\n",
              "    <tr>\n",
              "      <th>9564</th>\n",
              "      <td>13.19</td>\n",
              "      <td>39.18</td>\n",
              "      <td>1023.67</td>\n",
              "      <td>66.78</td>\n",
              "      <td>469.62</td>\n",
              "    </tr>\n",
              "    <tr>\n",
              "      <th>9565</th>\n",
              "      <td>31.32</td>\n",
              "      <td>74.33</td>\n",
              "      <td>1012.92</td>\n",
              "      <td>36.48</td>\n",
              "      <td>429.57</td>\n",
              "    </tr>\n",
              "    <tr>\n",
              "      <th>9566</th>\n",
              "      <td>24.48</td>\n",
              "      <td>69.45</td>\n",
              "      <td>1013.86</td>\n",
              "      <td>62.39</td>\n",
              "      <td>435.74</td>\n",
              "    </tr>\n",
              "    <tr>\n",
              "      <th>9567</th>\n",
              "      <td>21.60</td>\n",
              "      <td>62.52</td>\n",
              "      <td>1017.23</td>\n",
              "      <td>67.87</td>\n",
              "      <td>453.28</td>\n",
              "    </tr>\n",
              "  </tbody>\n",
              "</table>\n",
              "<p>9568 rows × 5 columns</p>\n",
              "</div>\n",
              "    <div class=\"colab-df-buttons\">\n",
              "\n",
              "  <div class=\"colab-df-container\">\n",
              "    <button class=\"colab-df-convert\" onclick=\"convertToInteractive('df-71aea9e1-3c22-448a-a208-a145a0c727b3')\"\n",
              "            title=\"Convert this dataframe to an interactive table.\"\n",
              "            style=\"display:none;\">\n",
              "\n",
              "  <svg xmlns=\"http://www.w3.org/2000/svg\" height=\"24px\" viewBox=\"0 -960 960 960\">\n",
              "    <path d=\"M120-120v-720h720v720H120Zm60-500h600v-160H180v160Zm220 220h160v-160H400v160Zm0 220h160v-160H400v160ZM180-400h160v-160H180v160Zm440 0h160v-160H620v160ZM180-180h160v-160H180v160Zm440 0h160v-160H620v160Z\"/>\n",
              "  </svg>\n",
              "    </button>\n",
              "\n",
              "  <style>\n",
              "    .colab-df-container {\n",
              "      display:flex;\n",
              "      gap: 12px;\n",
              "    }\n",
              "\n",
              "    .colab-df-convert {\n",
              "      background-color: #E8F0FE;\n",
              "      border: none;\n",
              "      border-radius: 50%;\n",
              "      cursor: pointer;\n",
              "      display: none;\n",
              "      fill: #1967D2;\n",
              "      height: 32px;\n",
              "      padding: 0 0 0 0;\n",
              "      width: 32px;\n",
              "    }\n",
              "\n",
              "    .colab-df-convert:hover {\n",
              "      background-color: #E2EBFA;\n",
              "      box-shadow: 0px 1px 2px rgba(60, 64, 67, 0.3), 0px 1px 3px 1px rgba(60, 64, 67, 0.15);\n",
              "      fill: #174EA6;\n",
              "    }\n",
              "\n",
              "    .colab-df-buttons div {\n",
              "      margin-bottom: 4px;\n",
              "    }\n",
              "\n",
              "    [theme=dark] .colab-df-convert {\n",
              "      background-color: #3B4455;\n",
              "      fill: #D2E3FC;\n",
              "    }\n",
              "\n",
              "    [theme=dark] .colab-df-convert:hover {\n",
              "      background-color: #434B5C;\n",
              "      box-shadow: 0px 1px 3px 1px rgba(0, 0, 0, 0.15);\n",
              "      filter: drop-shadow(0px 1px 2px rgba(0, 0, 0, 0.3));\n",
              "      fill: #FFFFFF;\n",
              "    }\n",
              "  </style>\n",
              "\n",
              "    <script>\n",
              "      const buttonEl =\n",
              "        document.querySelector('#df-71aea9e1-3c22-448a-a208-a145a0c727b3 button.colab-df-convert');\n",
              "      buttonEl.style.display =\n",
              "        google.colab.kernel.accessAllowed ? 'block' : 'none';\n",
              "\n",
              "      async function convertToInteractive(key) {\n",
              "        const element = document.querySelector('#df-71aea9e1-3c22-448a-a208-a145a0c727b3');\n",
              "        const dataTable =\n",
              "          await google.colab.kernel.invokeFunction('convertToInteractive',\n",
              "                                                    [key], {});\n",
              "        if (!dataTable) return;\n",
              "\n",
              "        const docLinkHtml = 'Like what you see? Visit the ' +\n",
              "          '<a target=\"_blank\" href=https://colab.research.google.com/notebooks/data_table.ipynb>data table notebook</a>'\n",
              "          + ' to learn more about interactive tables.';\n",
              "        element.innerHTML = '';\n",
              "        dataTable['output_type'] = 'display_data';\n",
              "        await google.colab.output.renderOutput(dataTable, element);\n",
              "        const docLink = document.createElement('div');\n",
              "        docLink.innerHTML = docLinkHtml;\n",
              "        element.appendChild(docLink);\n",
              "      }\n",
              "    </script>\n",
              "  </div>\n",
              "\n",
              "\n",
              "<div id=\"df-ce5063a5-a782-477a-9161-e10aa86dbca4\">\n",
              "  <button class=\"colab-df-quickchart\" onclick=\"quickchart('df-ce5063a5-a782-477a-9161-e10aa86dbca4')\"\n",
              "            title=\"Suggest charts\"\n",
              "            style=\"display:none;\">\n",
              "\n",
              "<svg xmlns=\"http://www.w3.org/2000/svg\" height=\"24px\"viewBox=\"0 0 24 24\"\n",
              "     width=\"24px\">\n",
              "    <g>\n",
              "        <path d=\"M19 3H5c-1.1 0-2 .9-2 2v14c0 1.1.9 2 2 2h14c1.1 0 2-.9 2-2V5c0-1.1-.9-2-2-2zM9 17H7v-7h2v7zm4 0h-2V7h2v10zm4 0h-2v-4h2v4z\"/>\n",
              "    </g>\n",
              "</svg>\n",
              "  </button>\n",
              "\n",
              "<style>\n",
              "  .colab-df-quickchart {\n",
              "      --bg-color: #E8F0FE;\n",
              "      --fill-color: #1967D2;\n",
              "      --hover-bg-color: #E2EBFA;\n",
              "      --hover-fill-color: #174EA6;\n",
              "      --disabled-fill-color: #AAA;\n",
              "      --disabled-bg-color: #DDD;\n",
              "  }\n",
              "\n",
              "  [theme=dark] .colab-df-quickchart {\n",
              "      --bg-color: #3B4455;\n",
              "      --fill-color: #D2E3FC;\n",
              "      --hover-bg-color: #434B5C;\n",
              "      --hover-fill-color: #FFFFFF;\n",
              "      --disabled-bg-color: #3B4455;\n",
              "      --disabled-fill-color: #666;\n",
              "  }\n",
              "\n",
              "  .colab-df-quickchart {\n",
              "    background-color: var(--bg-color);\n",
              "    border: none;\n",
              "    border-radius: 50%;\n",
              "    cursor: pointer;\n",
              "    display: none;\n",
              "    fill: var(--fill-color);\n",
              "    height: 32px;\n",
              "    padding: 0;\n",
              "    width: 32px;\n",
              "  }\n",
              "\n",
              "  .colab-df-quickchart:hover {\n",
              "    background-color: var(--hover-bg-color);\n",
              "    box-shadow: 0 1px 2px rgba(60, 64, 67, 0.3), 0 1px 3px 1px rgba(60, 64, 67, 0.15);\n",
              "    fill: var(--button-hover-fill-color);\n",
              "  }\n",
              "\n",
              "  .colab-df-quickchart-complete:disabled,\n",
              "  .colab-df-quickchart-complete:disabled:hover {\n",
              "    background-color: var(--disabled-bg-color);\n",
              "    fill: var(--disabled-fill-color);\n",
              "    box-shadow: none;\n",
              "  }\n",
              "\n",
              "  .colab-df-spinner {\n",
              "    border: 2px solid var(--fill-color);\n",
              "    border-color: transparent;\n",
              "    border-bottom-color: var(--fill-color);\n",
              "    animation:\n",
              "      spin 1s steps(1) infinite;\n",
              "  }\n",
              "\n",
              "  @keyframes spin {\n",
              "    0% {\n",
              "      border-color: transparent;\n",
              "      border-bottom-color: var(--fill-color);\n",
              "      border-left-color: var(--fill-color);\n",
              "    }\n",
              "    20% {\n",
              "      border-color: transparent;\n",
              "      border-left-color: var(--fill-color);\n",
              "      border-top-color: var(--fill-color);\n",
              "    }\n",
              "    30% {\n",
              "      border-color: transparent;\n",
              "      border-left-color: var(--fill-color);\n",
              "      border-top-color: var(--fill-color);\n",
              "      border-right-color: var(--fill-color);\n",
              "    }\n",
              "    40% {\n",
              "      border-color: transparent;\n",
              "      border-right-color: var(--fill-color);\n",
              "      border-top-color: var(--fill-color);\n",
              "    }\n",
              "    60% {\n",
              "      border-color: transparent;\n",
              "      border-right-color: var(--fill-color);\n",
              "    }\n",
              "    80% {\n",
              "      border-color: transparent;\n",
              "      border-right-color: var(--fill-color);\n",
              "      border-bottom-color: var(--fill-color);\n",
              "    }\n",
              "    90% {\n",
              "      border-color: transparent;\n",
              "      border-bottom-color: var(--fill-color);\n",
              "    }\n",
              "  }\n",
              "</style>\n",
              "\n",
              "  <script>\n",
              "    async function quickchart(key) {\n",
              "      const quickchartButtonEl =\n",
              "        document.querySelector('#' + key + ' button');\n",
              "      quickchartButtonEl.disabled = true;  // To prevent multiple clicks.\n",
              "      quickchartButtonEl.classList.add('colab-df-spinner');\n",
              "      try {\n",
              "        const charts = await google.colab.kernel.invokeFunction(\n",
              "            'suggestCharts', [key], {});\n",
              "      } catch (error) {\n",
              "        console.error('Error during call to suggestCharts:', error);\n",
              "      }\n",
              "      quickchartButtonEl.classList.remove('colab-df-spinner');\n",
              "      quickchartButtonEl.classList.add('colab-df-quickchart-complete');\n",
              "    }\n",
              "    (() => {\n",
              "      let quickchartButtonEl =\n",
              "        document.querySelector('#df-ce5063a5-a782-477a-9161-e10aa86dbca4 button');\n",
              "      quickchartButtonEl.style.display =\n",
              "        google.colab.kernel.accessAllowed ? 'block' : 'none';\n",
              "    })();\n",
              "  </script>\n",
              "</div>\n",
              "\n",
              "  <div id=\"id_20510296-c6bb-4fbf-beb0-15d26a924ad7\">\n",
              "    <style>\n",
              "      .colab-df-generate {\n",
              "        background-color: #E8F0FE;\n",
              "        border: none;\n",
              "        border-radius: 50%;\n",
              "        cursor: pointer;\n",
              "        display: none;\n",
              "        fill: #1967D2;\n",
              "        height: 32px;\n",
              "        padding: 0 0 0 0;\n",
              "        width: 32px;\n",
              "      }\n",
              "\n",
              "      .colab-df-generate:hover {\n",
              "        background-color: #E2EBFA;\n",
              "        box-shadow: 0px 1px 2px rgba(60, 64, 67, 0.3), 0px 1px 3px 1px rgba(60, 64, 67, 0.15);\n",
              "        fill: #174EA6;\n",
              "      }\n",
              "\n",
              "      [theme=dark] .colab-df-generate {\n",
              "        background-color: #3B4455;\n",
              "        fill: #D2E3FC;\n",
              "      }\n",
              "\n",
              "      [theme=dark] .colab-df-generate:hover {\n",
              "        background-color: #434B5C;\n",
              "        box-shadow: 0px 1px 3px 1px rgba(0, 0, 0, 0.15);\n",
              "        filter: drop-shadow(0px 1px 2px rgba(0, 0, 0, 0.3));\n",
              "        fill: #FFFFFF;\n",
              "      }\n",
              "    </style>\n",
              "    <button class=\"colab-df-generate\" onclick=\"generateWithVariable('df')\"\n",
              "            title=\"Generate code using this dataframe.\"\n",
              "            style=\"display:none;\">\n",
              "\n",
              "  <svg xmlns=\"http://www.w3.org/2000/svg\" height=\"24px\"viewBox=\"0 0 24 24\"\n",
              "       width=\"24px\">\n",
              "    <path d=\"M7,19H8.4L18.45,9,17,7.55,7,17.6ZM5,21V16.75L18.45,3.32a2,2,0,0,1,2.83,0l1.4,1.43a1.91,1.91,0,0,1,.58,1.4,1.91,1.91,0,0,1-.58,1.4L9.25,21ZM18.45,9,17,7.55Zm-12,3A5.31,5.31,0,0,0,4.9,8.1,5.31,5.31,0,0,0,1,6.5,5.31,5.31,0,0,0,4.9,4.9,5.31,5.31,0,0,0,6.5,1,5.31,5.31,0,0,0,8.1,4.9,5.31,5.31,0,0,0,12,6.5,5.46,5.46,0,0,0,6.5,12Z\"/>\n",
              "  </svg>\n",
              "    </button>\n",
              "    <script>\n",
              "      (() => {\n",
              "      const buttonEl =\n",
              "        document.querySelector('#id_20510296-c6bb-4fbf-beb0-15d26a924ad7 button.colab-df-generate');\n",
              "      buttonEl.style.display =\n",
              "        google.colab.kernel.accessAllowed ? 'block' : 'none';\n",
              "\n",
              "      buttonEl.onclick = () => {\n",
              "        google.colab.notebook.generateWithVariable('df');\n",
              "      }\n",
              "      })();\n",
              "    </script>\n",
              "  </div>\n",
              "\n",
              "    </div>\n",
              "  </div>\n"
            ]
          },
          "metadata": {},
          "execution_count": 16
        }
      ]
    },
    {
      "cell_type": "markdown",
      "source": [
        "##Q2 Feature Scaling"
      ],
      "metadata": {
        "id": "S3v1An0IUZIA"
      }
    },
    {
      "cell_type": "code",
      "source": [
        "from sklearn.preprocessing import StandardScaler\n"
      ],
      "metadata": {
        "id": "6zaI981NU-LJ"
      },
      "execution_count": 17,
      "outputs": []
    },
    {
      "cell_type": "code",
      "source": [
        "features = ['AT', 'V', 'AP', 'RH', 'PE']\n",
        "X = df[features]\n",
        "scaler = StandardScaler()\n",
        "X_scaled = scaler.fit_transform(X)\n",
        "df_scaled = pd.DataFrame(X_scaled, columns=features)\n",
        "print(df_scaled.head())"
      ],
      "metadata": {
        "colab": {
          "base_uri": "https://localhost:8080/"
        },
        "id": "LrGF4zXd4v8V",
        "outputId": "98b1e18e-dd75-4549-cc0b-d551580a5fd6"
      },
      "execution_count": 18,
      "outputs": [
        {
          "output_type": "stream",
          "name": "stdout",
          "text": [
            "         AT         V        AP        RH        PE\n",
            "0 -0.629519 -0.987297  1.820488 -0.009519  0.521208\n",
            "1  0.741909  0.681045  1.141863 -0.974621 -0.585664\n",
            "2 -1.951297 -1.173018 -0.185078  1.289840  2.003679\n",
            "3  0.162205  0.237203 -0.508393  0.228160 -0.462028\n",
            "4 -1.185069 -1.322539 -0.678470  1.596699  1.144666\n"
          ]
        }
      ]
    },
    {
      "cell_type": "markdown",
      "source": [
        "##Q3 Split the dataset into the Training set and Test set"
      ],
      "metadata": {
        "id": "suSVCSUeURdQ"
      }
    },
    {
      "cell_type": "code",
      "source": [
        "from sklearn.model_selection import train_test_split\n",
        "features = ['AT', 'V', 'AP', 'RH']\n",
        "target = 'PE'\n",
        "X = df_scaled[features]\n",
        "y = df_scaled[target]\n",
        "X_train, X_test, y_train, y_test = train_test_split(X, y, test_size=0.2, random_state=42)\n",
        "print(\"Training set shape:\", X_train.shape, y_train.shape)\n",
        "print(\"Test set shape:\", X_test.shape, y_test.shape)"
      ],
      "metadata": {
        "id": "uo7Xc1LQUH8M",
        "colab": {
          "base_uri": "https://localhost:8080/"
        },
        "outputId": "9797c741-c4a4-43a8-b739-9c47e1e8931b"
      },
      "execution_count": 19,
      "outputs": [
        {
          "output_type": "stream",
          "name": "stdout",
          "text": [
            "Training set shape: (7654, 4) (7654,)\n",
            "Test set shape: (1914, 4) (1914,)\n"
          ]
        }
      ]
    },
    {
      "cell_type": "markdown",
      "source": [
        "##Q4 Implement SVR"
      ],
      "metadata": {
        "id": "82DLSQZOVPan"
      }
    },
    {
      "cell_type": "code",
      "source": [
        "from sklearn.svm import SVR\n",
        "from sklearn.metrics import mean_squared_error\n",
        "svm_regressor = SVR(kernel='linear', C=1.0)\n",
        "svm_regressor.fit(X_train, y_train)\n",
        "y_pred_regression = svm_regressor.predict(X_test)\n",
        "mse = mean_squared_error(y_test, y_pred_regression)\n",
        "print(\"Mean Squared Error:\", mse)"
      ],
      "metadata": {
        "colab": {
          "base_uri": "https://localhost:8080/"
        },
        "id": "vTrUxp2U5vi_",
        "outputId": "44698936-6de0-4030-9277-563edd5f8cd1"
      },
      "execution_count": 22,
      "outputs": [
        {
          "output_type": "stream",
          "name": "stdout",
          "text": [
            "Mean Squared Error: 0.0704843305420682\n"
          ]
        }
      ]
    },
    {
      "cell_type": "markdown",
      "source": [
        "###4a RBF Kernel"
      ],
      "metadata": {
        "id": "GG19wtonVwd4"
      }
    },
    {
      "cell_type": "code",
      "source": [
        "svm_regressor_rbf = SVR(kernel='rbf', C=1.0, gamma='scale')\n",
        "svm_regressor_rbf.fit(X_train, y_train)\n",
        "y_pred_regression_rbf = svm_regressor_rbf.predict(X_test)\n",
        "mse_rbf = mean_squared_error(y_test, y_pred_regression_rbf)\n",
        "print(\"Mean Squared Error (RBF Kernel):\", mse_rbf)"
      ],
      "metadata": {
        "colab": {
          "base_uri": "https://localhost:8080/"
        },
        "id": "CrkOUpJu6q1M",
        "outputId": "d320bf7d-6f57-4ea8-c704-75053aaf33d0"
      },
      "execution_count": 23,
      "outputs": [
        {
          "output_type": "stream",
          "name": "stdout",
          "text": [
            "Mean Squared Error (RBF Kernel): 0.052935005779458776\n"
          ]
        }
      ]
    },
    {
      "cell_type": "markdown",
      "source": [
        "###4b Linear Kernel"
      ],
      "metadata": {
        "id": "1mWA91epV0rH"
      }
    },
    {
      "cell_type": "code",
      "source": [
        "svm_regressor_linear = SVR(kernel='linear', C=1.0)\n",
        "svm_regressor_linear.fit(X_train, y_train)\n",
        "y_pred_regression_linear = svm_regressor_linear.predict(X_test)\n",
        "mse_linear = mean_squared_error(y_test, y_pred_regression_linear)\n",
        "print(\"Mean Squared Error (Linear Kernel):\", mse_linear)"
      ],
      "metadata": {
        "colab": {
          "base_uri": "https://localhost:8080/"
        },
        "id": "aQaIqb_b7Xrd",
        "outputId": "1f82065b-bbb4-4c94-eca1-ac29b482d78d"
      },
      "execution_count": 24,
      "outputs": [
        {
          "output_type": "stream",
          "name": "stdout",
          "text": [
            "Mean Squared Error (Linear Kernel): 0.0704843305420682\n"
          ]
        }
      ]
    },
    {
      "cell_type": "markdown",
      "source": [
        "###4c Polynomial Kernel"
      ],
      "metadata": {
        "id": "HBZpfov-V5lZ"
      }
    },
    {
      "cell_type": "code",
      "source": [
        "svm_regressor_poly = SVR(kernel='poly', degree=3, C=1.0)\n",
        "svm_regressor_poly.fit(X_train, y_train)\n",
        "y_pred_regression_poly = svm_regressor_poly.predict(X_test)\n",
        "mse_poly = mean_squared_error(y_test, y_pred_regression_poly)\n",
        "print(\"Mean Squared Error (Polynomial Kernel):\", mse_poly)"
      ],
      "metadata": {
        "colab": {
          "base_uri": "https://localhost:8080/"
        },
        "id": "V9LReZmo7rDO",
        "outputId": "08c949c2-2619-494f-c1d9-8e75ed9be9c4"
      },
      "execution_count": 25,
      "outputs": [
        {
          "output_type": "stream",
          "name": "stdout",
          "text": [
            "Mean Squared Error (Polynomial Kernel): 0.23392116501744334\n"
          ]
        }
      ]
    },
    {
      "cell_type": "markdown",
      "source": [
        "###4d Sigmoid Kernel"
      ],
      "metadata": {
        "id": "DXmWtBHOV88n"
      }
    },
    {
      "cell_type": "code",
      "source": [
        "svm_regressor_sigmoid = SVR(kernel='sigmoid', C=1.0, gamma='scale')\n",
        "svm_regressor_sigmoid.fit(X_train, y_train)\n",
        "y_pred_regression_sigmoid = svm_regressor_sigmoid.predict(X_test)\n",
        "mse_sigmoid = mean_squared_error(y_test, y_pred_regression_sigmoid)\n",
        "print(\"Mean Squared Error (Sigmoid Kernel):\", mse_sigmoid)"
      ],
      "metadata": {
        "colab": {
          "base_uri": "https://localhost:8080/"
        },
        "id": "9P3pqsTr7_pc",
        "outputId": "090b0fb3-2139-4cc8-fd5e-dd8b58942c90"
      },
      "execution_count": 26,
      "outputs": [
        {
          "output_type": "stream",
          "name": "stdout",
          "text": [
            "Mean Squared Error (Sigmoid Kernel): 25650.18473413331\n"
          ]
        }
      ]
    },
    {
      "cell_type": "code",
      "source": [],
      "metadata": {
        "id": "dxlIBuM18Ktx"
      },
      "execution_count": null,
      "outputs": []
    }
  ]
}